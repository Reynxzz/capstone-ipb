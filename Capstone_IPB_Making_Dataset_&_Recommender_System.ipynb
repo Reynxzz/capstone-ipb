{
  "nbformat": 4,
  "nbformat_minor": 0,
  "metadata": {
    "colab": {
      "provenance": [],
      "mount_file_id": "18AR8-6shlaID2IuNObqcqSt_qD5SW-pG",
      "authorship_tag": "ABX9TyP0sku2s/yXWdc3+XLnOXdv",
      "include_colab_link": true
    },
    "kernelspec": {
      "name": "python3",
      "display_name": "Python 3"
    },
    "language_info": {
      "name": "python"
    }
  },
  "cells": [
    {
      "cell_type": "markdown",
      "metadata": {
        "id": "view-in-github",
        "colab_type": "text"
      },
      "source": [
        "<a href=\"https://colab.research.google.com/github/Reynxzz/capstone-ipb/blob/main/Capstone_IPB_Making_Dataset_%26_Recommender_System.ipynb\" target=\"_parent\"><img src=\"https://colab.research.google.com/assets/colab-badge.svg\" alt=\"Open In Colab\"/></a>"
      ]
    },
    {
      "cell_type": "markdown",
      "source": [
        "# Making Dataset (place, lat, lon, elevation)"
      ],
      "metadata": {
        "id": "Q_hSMt-F1SU2"
      }
    },
    {
      "cell_type": "markdown",
      "source": [
        "Ngambil data elevation dari opentopodata API"
      ],
      "metadata": {
        "id": "i9rB2XpF1i59"
      }
    },
    {
      "cell_type": "markdown",
      "source": [
        "STEP bikin dataset:\n",
        "1. Bikin random point di google earth sekitaran IPB\n",
        "2. Export latitude dan longitude dari point2 itu\n",
        "3. Ambil data elevation per point tersebut pake Open Topodata API\n",
        "4. Generate random route (cyclic) dengan start Agrimart dan Rektorat\n",
        "5. Sesuaikan distancenya (max 3 km dan max 5 km)\n",
        "6. Sesuaikan kesulitannya pake data elevasi (Easy, Medium, Hard) --> lagi disini\n",
        "7. Sesuaikan dengan pemandangan"
      ],
      "metadata": {
        "id": "J0dwdaC1_r1P"
      }
    },
    {
      "cell_type": "markdown",
      "source": [
        "Import CSV datasets from Google Earth"
      ],
      "metadata": {
        "id": "MAha_gGxBPjf"
      }
    },
    {
      "cell_type": "code",
      "source": [
        "import csv\n",
        "\n",
        "# Open the CSV file for reading\n",
        "with open('/content/drive/My Drive/Capstone IPB/Tempat_di_IPB.csv', newline='') as csvfile:\n",
        "    reader = csv.DictReader(csvfile)\n",
        "\n",
        "    # Create a list of tuples containing latitude and longitude\n",
        "    coordinates = [(float(row['Y']), float(row['X'])) for row in reader]"
      ],
      "metadata": {
        "id": "sucnsntHBOk9"
      },
      "execution_count": null,
      "outputs": []
    },
    {
      "cell_type": "markdown",
      "source": [
        "Get Elevation"
      ],
      "metadata": {
        "id": "pdKnhuMHBy68"
      }
    },
    {
      "cell_type": "code",
      "source": [
        "import requests\n",
        "\n",
        "def get_elevations(coordinates):\n",
        "    \"\"\"Lihat dokumentasi disini bro https://www.opentopodata.org/\"\"\"\n",
        "\n",
        "    # Build the API URL for the OpenTopo API\n",
        "    url = \"https://api.opentopodata.org/v1/aster30m\"\n",
        "\n",
        "    # Make the API call for each coordinate and extract the elevation data\n",
        "    elevations = []\n",
        "    for coord in coordinates:\n",
        "        lat, lon = coord\n",
        "        query = f\"{url}?locations={lat},{lon}\"\n",
        "        response = requests.get(query)\n",
        "        if response.status_code == 200:\n",
        "            data = response.json()\n",
        "            elevation = data[\"results\"][0][\"elevation\"]\n",
        "            elevations.append(elevation)\n",
        "        else:\n",
        "            elevations.append(None)\n",
        "\n",
        "    # Return the list of elevations\n",
        "    return elevations"
      ],
      "metadata": {
        "id": "T8QOv9zx2Na-"
      },
      "execution_count": null,
      "outputs": []
    },
    {
      "cell_type": "code",
      "source": [
        "elevations = get_elevations(coordinates)\n",
        "\n",
        "# Print the list of elevations\n",
        "print(elevations)"
      ],
      "metadata": {
        "colab": {
          "base_uri": "https://localhost:8080/"
        },
        "id": "N1M8D9YY2jQM",
        "outputId": "3d491522-0524-4a57-df16-cb3e71927d7a"
      },
      "execution_count": null,
      "outputs": [
        {
          "output_type": "stream",
          "name": "stdout",
          "text": [
            "[184.0, 180.0, 175.0, 176.0, None, 184.0, None, 167.0, None, None, 124.0, None, 165.0, None]\n"
          ]
        }
      ]
    },
    {
      "cell_type": "markdown",
      "source": [
        "Generate Routes"
      ],
      "metadata": {
        "id": "b3EqmOLuCP0x"
      }
    },
    {
      "cell_type": "markdown",
      "source": [
        "Bikin rute random"
      ],
      "metadata": {
        "id": "jr6a070u1aRn"
      }
    },
    {
      "cell_type": "code",
      "source": [
        "import random\n",
        "import json\n",
        "import folium\n",
        "\n",
        "def routes_maker(total_point, max_distance):\n",
        "    subset = []\n",
        "    # define start and end coordinates\n",
        "    start = coordinates[0]\n",
        "    end = coordinates[0]\n",
        "\n",
        "    # randomly select a subset of coordinates\n",
        "    subset = random.sample(coordinates, k=total_point)  # k is the number of coordinates in the subset\n",
        "\n",
        "    # add the start and end coordinates to the beginning and end of the subset\n",
        "    subset.insert(0, start)\n",
        "    subset.append(end)\n",
        "\n",
        "    api_url = 'https://api.openrouteservice.org/v2/directions/foot-walking'\n",
        "    api_key = '5b3ce3597851110001cf6248d4725ac662f8461eb589679758fb20ea'\n",
        "\n",
        "    locations = [list(r) for r in subset]\n",
        "    total_distance = 0\n",
        "\n",
        "    for i in range(len(locations)-1):\n",
        "        # Define the start and end coordinates for the API call\n",
        "        start_coords = f\"{locations[i][1]},{locations[i][0]}\"\n",
        "        end_coords = f\"{locations[i+1][1]},{locations[i+1][0]}\"\n",
        "        \n",
        "        # Define the API call parameters, including the start and end coordinates, the API key, and the travel mode (walking)\n",
        "        params = {\n",
        "            'api_key': api_key,\n",
        "            'start': start_coords,\n",
        "            'end': end_coords,\n",
        "            'profile': 'foot-walking',\n",
        "        }\n",
        "        \n",
        "        # Make the API call and parse the response as JSON\n",
        "        response = requests.get(api_url, params=params)\n",
        "        data = json.loads(response.text)\n",
        "        \n",
        "        # Extract the walking distance from the response and print it\n",
        "        distance = data['features'][0]['properties']['segments'][0]['distance']\n",
        "        print(f\"Distance between locations {i+1} and {i+2}: {distance:.2f} meters\")\n",
        "        total_distance += distance\n",
        "        \n",
        "        # visualize route\n",
        "        m = folium.Map(location=start, zoom_start=14)\n",
        "        folium.PolyLine(locations=[list(reversed(coord)) \n",
        "                              for coord in \n",
        "                              data['features'][0]['geometry']['coordinates']]).add_to(m)\n",
        "\n",
        "    print(f\"total distance: {total_distance:.2f}\")\n",
        "    \n",
        "    if total_distance > max_distance + 500:\n",
        "          total_distance = routes_maker(total_point, max_distance)\n",
        "\n",
        "\n",
        "    return total_distance, m "
      ],
      "metadata": {
        "id": "pRVlc7NG-RsJ"
      },
      "execution_count": null,
      "outputs": []
    },
    {
      "cell_type": "code",
      "source": [
        "total_distances, m = routes_maker(2, 5000)"
      ],
      "metadata": {
        "colab": {
          "base_uri": "https://localhost:8080/"
        },
        "id": "e2tY_fza2-Nv",
        "outputId": "b76addb1-58f4-4e93-e371-d2539d9f9a93"
      },
      "execution_count": null,
      "outputs": [
        {
          "output_type": "stream",
          "name": "stdout",
          "text": [
            "Distance between locations 1 and 2: 2041.40 meters\n",
            "Distance between locations 2 and 3: 1239.00 meters\n",
            "Distance between locations 3 and 4: 3071.90 meters\n",
            "total distance: 6352.30\n",
            "Distance between locations 1 and 2: 3071.90 meters\n",
            "Distance between locations 2 and 3: 1239.00 meters\n",
            "Distance between locations 3 and 4: 2041.40 meters\n",
            "total distance: 6352.30\n",
            "Distance between locations 1 and 2: 3071.90 meters\n",
            "Distance between locations 2 and 3: 3071.90 meters\n",
            "Distance between locations 3 and 4: 0.00 meters\n",
            "total distance: 6143.80\n",
            "Distance between locations 1 and 2: 0.00 meters\n",
            "Distance between locations 2 and 3: 2665.60 meters\n",
            "Distance between locations 3 and 4: 2665.60 meters\n",
            "total distance: 5331.20\n"
          ]
        }
      ]
    },
    {
      "cell_type": "markdown",
      "source": [
        "Visualisasi rute"
      ],
      "metadata": {
        "id": "Uj5rYn2mGnjk"
      }
    },
    {
      "cell_type": "code",
      "source": [
        "m"
      ],
      "metadata": {
        "colab": {
          "base_uri": "https://localhost:8080/",
          "height": 798
        },
        "id": "7SaiEF1vDKR6",
        "outputId": "1ee24de4-3183-47fa-db7f-d74a5ff7b115"
      },
      "execution_count": null,
      "outputs": [
        {
          "output_type": "execute_result",
          "data": {
            "text/plain": [
              "<folium.folium.Map at 0x7ffb014a3b20>"
            ],
            "text/html": [
              "<div style=\"width:100%;\"><div style=\"position:relative;width:100%;height:0;padding-bottom:60%;\"><span style=\"color:#565656\">Make this Notebook Trusted to load map: File -> Trust Notebook</span><iframe srcdoc=\"&lt;!DOCTYPE html&gt;\n",
              "&lt;html&gt;\n",
              "&lt;head&gt;\n",
              "    \n",
              "    &lt;meta http-equiv=&quot;content-type&quot; content=&quot;text/html; charset=UTF-8&quot; /&gt;\n",
              "    \n",
              "        &lt;script&gt;\n",
              "            L_NO_TOUCH = false;\n",
              "            L_DISABLE_3D = false;\n",
              "        &lt;/script&gt;\n",
              "    \n",
              "    &lt;style&gt;html, body {width: 100%;height: 100%;margin: 0;padding: 0;}&lt;/style&gt;\n",
              "    &lt;style&gt;#map {position:absolute;top:0;bottom:0;right:0;left:0;}&lt;/style&gt;\n",
              "    &lt;script src=&quot;https://cdn.jsdelivr.net/npm/leaflet@1.9.3/dist/leaflet.js&quot;&gt;&lt;/script&gt;\n",
              "    &lt;script src=&quot;https://code.jquery.com/jquery-1.12.4.min.js&quot;&gt;&lt;/script&gt;\n",
              "    &lt;script src=&quot;https://cdn.jsdelivr.net/npm/bootstrap@5.2.2/dist/js/bootstrap.bundle.min.js&quot;&gt;&lt;/script&gt;\n",
              "    &lt;script src=&quot;https://cdnjs.cloudflare.com/ajax/libs/Leaflet.awesome-markers/2.0.2/leaflet.awesome-markers.js&quot;&gt;&lt;/script&gt;\n",
              "    &lt;link rel=&quot;stylesheet&quot; href=&quot;https://cdn.jsdelivr.net/npm/leaflet@1.9.3/dist/leaflet.css&quot;/&gt;\n",
              "    &lt;link rel=&quot;stylesheet&quot; href=&quot;https://cdn.jsdelivr.net/npm/bootstrap@5.2.2/dist/css/bootstrap.min.css&quot;/&gt;\n",
              "    &lt;link rel=&quot;stylesheet&quot; href=&quot;https://netdna.bootstrapcdn.com/bootstrap/3.0.0/css/bootstrap.min.css&quot;/&gt;\n",
              "    &lt;link rel=&quot;stylesheet&quot; href=&quot;https://cdn.jsdelivr.net/npm/@fortawesome/fontawesome-free@6.2.0/css/all.min.css&quot;/&gt;\n",
              "    &lt;link rel=&quot;stylesheet&quot; href=&quot;https://cdnjs.cloudflare.com/ajax/libs/Leaflet.awesome-markers/2.0.2/leaflet.awesome-markers.css&quot;/&gt;\n",
              "    &lt;link rel=&quot;stylesheet&quot; href=&quot;https://cdn.jsdelivr.net/gh/python-visualization/folium/folium/templates/leaflet.awesome.rotate.min.css&quot;/&gt;\n",
              "    \n",
              "            &lt;meta name=&quot;viewport&quot; content=&quot;width=device-width,\n",
              "                initial-scale=1.0, maximum-scale=1.0, user-scalable=no&quot; /&gt;\n",
              "            &lt;style&gt;\n",
              "                #map_914e677cfaff98633da27e268e4b7fd7 {\n",
              "                    position: relative;\n",
              "                    width: 100.0%;\n",
              "                    height: 100.0%;\n",
              "                    left: 0.0%;\n",
              "                    top: 0.0%;\n",
              "                }\n",
              "                .leaflet-container { font-size: 1rem; }\n",
              "            &lt;/style&gt;\n",
              "        \n",
              "&lt;/head&gt;\n",
              "&lt;body&gt;\n",
              "    \n",
              "    \n",
              "            &lt;div class=&quot;folium-map&quot; id=&quot;map_914e677cfaff98633da27e268e4b7fd7&quot; &gt;&lt;/div&gt;\n",
              "        \n",
              "&lt;/body&gt;\n",
              "&lt;script&gt;\n",
              "    \n",
              "    \n",
              "            var map_914e677cfaff98633da27e268e4b7fd7 = L.map(\n",
              "                &quot;map_914e677cfaff98633da27e268e4b7fd7&quot;,\n",
              "                {\n",
              "                    center: [-6.55984667674852, 106.731220037341],\n",
              "                    crs: L.CRS.EPSG3857,\n",
              "                    zoom: 14,\n",
              "                    zoomControl: true,\n",
              "                    preferCanvas: false,\n",
              "                }\n",
              "            );\n",
              "\n",
              "            \n",
              "\n",
              "        \n",
              "    \n",
              "            var tile_layer_cf8c1f41881ecded833b9fc237ab3517 = L.tileLayer(\n",
              "                &quot;https://{s}.tile.openstreetmap.org/{z}/{x}/{y}.png&quot;,\n",
              "                {&quot;attribution&quot;: &quot;Data by \\u0026copy; \\u003ca target=\\&quot;_blank\\&quot; href=\\&quot;http://openstreetmap.org\\&quot;\\u003eOpenStreetMap\\u003c/a\\u003e, under \\u003ca target=\\&quot;_blank\\&quot; href=\\&quot;http://www.openstreetmap.org/copyright\\&quot;\\u003eODbL\\u003c/a\\u003e.&quot;, &quot;detectRetina&quot;: false, &quot;maxNativeZoom&quot;: 18, &quot;maxZoom&quot;: 18, &quot;minZoom&quot;: 0, &quot;noWrap&quot;: false, &quot;opacity&quot;: 1, &quot;subdomains&quot;: &quot;abc&quot;, &quot;tms&quot;: false}\n",
              "            ).addTo(map_914e677cfaff98633da27e268e4b7fd7);\n",
              "        \n",
              "    \n",
              "            var poly_line_23224148248d3f3a0174f6825c4985c9 = L.polyline(\n",
              "                [[-6.546217, 106.717347], [-6.546071, 106.717227], [-6.545874, 106.71704], [-6.545705, 106.71684], [-6.545617, 106.716655], [-6.545536, 106.716415], [-6.545471, 106.716149], [-6.545464, 106.715963], [-6.545688, 106.715978], [-6.545724, 106.715974], [-6.545745, 106.715944], [-6.545734, 106.715715], [-6.545734, 106.71563], [-6.545764, 106.715608], [-6.546, 106.715591], [-6.546037, 106.715567], [-6.546061, 106.715522], [-6.546058, 106.715386], [-6.546153, 106.715386], [-6.546285, 106.715389], [-6.547022, 106.71548], [-6.547199, 106.715512], [-6.547219, 106.716049], [-6.548757, 106.716003], [-6.550119, 106.717681], [-6.55032, 106.717727], [-6.550388, 106.717788], [-6.550394, 106.717873], [-6.550405, 106.718316], [-6.550649, 106.718447], [-6.55107, 106.718867], [-6.551836, 106.718816], [-6.552362, 106.718834], [-6.552374, 106.719153], [-6.552359, 106.719328], [-6.552345, 106.719409], [-6.552339, 106.719498], [-6.552321, 106.719744], [-6.552341, 106.720014], [-6.552446, 106.720434], [-6.552529, 106.720652], [-6.552647, 106.720839], [-6.552773, 106.720974], [-6.55286, 106.721064], [-6.553083, 106.721286], [-6.553465, 106.721694], [-6.553583, 106.721859], [-6.553726, 106.722067], [-6.55377, 106.722182], [-6.553833, 106.72292], [-6.553854, 106.723384], [-6.55388, 106.723578], [-6.55392, 106.723713], [-6.553981, 106.723773], [-6.554042, 106.723816], [-6.554317, 106.723959], [-6.554381, 106.723996], [-6.554493, 106.72406], [-6.554927, 106.724309], [-6.55548, 106.724666], [-6.55559, 106.724728], [-6.555764, 106.724841], [-6.556125, 106.72509], [-6.556332, 106.725236], [-6.556378, 106.725337], [-6.556407, 106.725471], [-6.55641, 106.72557], [-6.556415, 106.725651], [-6.556443, 106.725647], [-6.556471, 106.725651], [-6.556497, 106.725661], [-6.556519, 106.725678], [-6.556537, 106.725701], [-6.556548, 106.725727], [-6.556552, 106.725755], [-6.556548, 106.725783], [-6.556538, 106.725809], [-6.556739, 106.726277], [-6.556775, 106.726411], [-6.556823, 106.726462], [-6.556993, 106.726599], [-6.557253, 106.726718], [-6.557467, 106.726767], [-6.557772, 106.726814], [-6.55796, 106.726834], [-6.55818, 106.726832], [-6.558255, 106.726841], [-6.558382, 106.726905], [-6.558852, 106.727142], [-6.558981, 106.727212], [-6.559049, 106.727266], [-6.559201, 106.727444], [-6.559347, 106.727594], [-6.559472, 106.727759], [-6.559627, 106.727929], [-6.559694, 106.728061], [-6.559841, 106.729035], [-6.559851, 106.729216], [-6.559916, 106.73034], [-6.559771, 106.730456], [-6.559727, 106.730494], [-6.559622, 106.730561], [-6.559687, 106.730679], [-6.55955, 106.730776], [-6.559858, 106.731212]],\n",
              "                {&quot;bubblingMouseEvents&quot;: true, &quot;color&quot;: &quot;#3388ff&quot;, &quot;dashArray&quot;: null, &quot;dashOffset&quot;: null, &quot;fill&quot;: false, &quot;fillColor&quot;: &quot;#3388ff&quot;, &quot;fillOpacity&quot;: 0.2, &quot;fillRule&quot;: &quot;evenodd&quot;, &quot;lineCap&quot;: &quot;round&quot;, &quot;lineJoin&quot;: &quot;round&quot;, &quot;noClip&quot;: false, &quot;opacity&quot;: 1.0, &quot;smoothFactor&quot;: 1.0, &quot;stroke&quot;: true, &quot;weight&quot;: 3}\n",
              "            ).addTo(map_914e677cfaff98633da27e268e4b7fd7);\n",
              "        \n",
              "&lt;/script&gt;\n",
              "&lt;/html&gt;\" style=\"position:absolute;width:100%;height:100%;left:0;top:0;border:none !important;\" allowfullscreen webkitallowfullscreen mozallowfullscreen></iframe></div></div>"
            ]
          },
          "metadata": {},
          "execution_count": 153
        }
      ]
    }
  ]
}