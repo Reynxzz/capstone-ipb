{
  "nbformat": 4,
  "nbformat_minor": 0,
  "metadata": {
    "colab": {
      "provenance": [],
      "mount_file_id": "18AR8-6shlaID2IuNObqcqSt_qD5SW-pG",
      "authorship_tag": "ABX9TyNxAEnc5vyYqvEXVxWmUWEM",
      "include_colab_link": true
    },
    "kernelspec": {
      "name": "python3",
      "display_name": "Python 3"
    },
    "language_info": {
      "name": "python"
    }
  },
  "cells": [
    {
      "cell_type": "markdown",
      "metadata": {
        "id": "view-in-github",
        "colab_type": "text"
      },
      "source": [
        "<a href=\"https://colab.research.google.com/github/Reynxzz/capstone-ipb/blob/main/Capstone_IPB_Making_Dataset_%26_Recommender_System.ipynb\" target=\"_parent\"><img src=\"https://colab.research.google.com/assets/colab-badge.svg\" alt=\"Open In Colab\"/></a>"
      ]
    },
    {
      "cell_type": "markdown",
      "source": [
        "# Making Dataset"
      ],
      "metadata": {
        "id": "Q_hSMt-F1SU2"
      }
    },
    {
      "cell_type": "markdown",
      "source": [
        "STEP bikin dataset:\n",
        "1. Bikin random point di google earth sekitaran IPB\n",
        "2. Export latitude dan longitude dari point2 itu\n",
        "3. Generate random route (cyclic) dengan start Agrimart dan Rektorat\n",
        "4. Sesuaikan distancenya (max 3 km dan max 5 km)\n",
        "5. Ambil data elevation per point subset tersebut pake Open Topodata API\n",
        "6. Sesuaikan kesulitannya pake data elevasi (Easy, Medium, Hard) --> lagi disini\n",
        "7. Sesuaikan dengan pemandangan"
      ],
      "metadata": {
        "id": "J0dwdaC1_r1P"
      }
    },
    {
      "cell_type": "markdown",
      "source": [
        "Expected dataset:\n",
        "\n",
        "| Route | (lat,lon) | Distance | Duration | Elevation Max | Elevation Min | Elevation Difference | Difficulty | Scenery | Preview(image) |"
      ],
      "metadata": {
        "id": "tdeyqIGY__-N"
      }
    },
    {
      "cell_type": "markdown",
      "source": [
        "###Import CSV datasets from Google Earth"
      ],
      "metadata": {
        "id": "MAha_gGxBPjf"
      }
    },
    {
      "cell_type": "code",
      "source": [
        "import csv\n",
        "\n",
        "# Open the CSV file for reading\n",
        "with open('/content/drive/My Drive/Capstone IPB/Tempat_di_IPB.csv', newline='') as csvfile:\n",
        "    reader = csv.DictReader(csvfile)\n",
        "\n",
        "    # Create a list of tuples containing latitude and longitude\n",
        "    coordinates = [(float(row['Y']), float(row['X'])) for row in reader]"
      ],
      "metadata": {
        "id": "sucnsntHBOk9"
      },
      "execution_count": 1,
      "outputs": []
    },
    {
      "cell_type": "markdown",
      "source": [
        "Create dataframe"
      ],
      "metadata": {
        "id": "4NgzQNIm3C8L"
      }
    },
    {
      "cell_type": "code",
      "source": [
        "import pandas as pd\n",
        "df = pd.read_csv('/content/drive/My Drive/Capstone IPB/Tempat_di_IPB.csv')"
      ],
      "metadata": {
        "id": "RAghB_2-3Ciz"
      },
      "execution_count": 2,
      "outputs": []
    },
    {
      "cell_type": "code",
      "source": [
        "# remove uneccessary column\n",
        "df = df.drop(df.columns[-1], axis=1)\n",
        "\n",
        "# change column name\n",
        "df = df[['Name', 'Y', 'X']]\n",
        "df = df.rename(columns={'Name': 'name', 'X': 'longitude', 'Y': 'latitude'})\n",
        "df"
      ],
      "metadata": {
        "colab": {
          "base_uri": "https://localhost:8080/",
          "height": 488
        },
        "id": "sLbLpWLp3PCj",
        "outputId": "40b10cc6-f222-4eb7-befc-04e346b4772d"
      },
      "execution_count": 3,
      "outputs": [
        {
          "output_type": "execute_result",
          "data": {
            "text/plain": [
              "                           name  latitude   longitude\n",
              "0   Starting Point 1 - Agrimart -6.559847  106.731220\n",
              "1                Depan Koin IPB -6.560860  106.727949\n",
              "2                Depan Rektorat -6.560678  106.725458\n",
              "3           Pintu Masuk ke Kiri -6.557232  106.719038\n",
              "4          Warteg Sebelah Alhur -6.556168  106.724086\n",
              "5                   Depan Alhur -6.556064  106.725050\n",
              "6                    Perumdos 1 -6.552980  106.721197\n",
              "7                    Belakang 1 -6.552237  106.717024\n",
              "8                       Sawah 1 -6.551354  106.714950\n",
              "9               Belakang Banget -6.547448  106.715541\n",
              "10                      Kandang -6.545629  106.715350\n",
              "11           Taman Hutan Kampus -6.546201  106.717366\n",
              "12           Depan Kandang Rusa -6.550451  106.719482\n",
              "13                   Danau SDGS -6.555356  106.717590"
            ],
            "text/html": [
              "\n",
              "  <div id=\"df-b3f7c924-a67a-44f9-95d0-8f82d6bed9d6\">\n",
              "    <div class=\"colab-df-container\">\n",
              "      <div>\n",
              "<style scoped>\n",
              "    .dataframe tbody tr th:only-of-type {\n",
              "        vertical-align: middle;\n",
              "    }\n",
              "\n",
              "    .dataframe tbody tr th {\n",
              "        vertical-align: top;\n",
              "    }\n",
              "\n",
              "    .dataframe thead th {\n",
              "        text-align: right;\n",
              "    }\n",
              "</style>\n",
              "<table border=\"1\" class=\"dataframe\">\n",
              "  <thead>\n",
              "    <tr style=\"text-align: right;\">\n",
              "      <th></th>\n",
              "      <th>name</th>\n",
              "      <th>latitude</th>\n",
              "      <th>longitude</th>\n",
              "    </tr>\n",
              "  </thead>\n",
              "  <tbody>\n",
              "    <tr>\n",
              "      <th>0</th>\n",
              "      <td>Starting Point 1 - Agrimart</td>\n",
              "      <td>-6.559847</td>\n",
              "      <td>106.731220</td>\n",
              "    </tr>\n",
              "    <tr>\n",
              "      <th>1</th>\n",
              "      <td>Depan Koin IPB</td>\n",
              "      <td>-6.560860</td>\n",
              "      <td>106.727949</td>\n",
              "    </tr>\n",
              "    <tr>\n",
              "      <th>2</th>\n",
              "      <td>Depan Rektorat</td>\n",
              "      <td>-6.560678</td>\n",
              "      <td>106.725458</td>\n",
              "    </tr>\n",
              "    <tr>\n",
              "      <th>3</th>\n",
              "      <td>Pintu Masuk ke Kiri</td>\n",
              "      <td>-6.557232</td>\n",
              "      <td>106.719038</td>\n",
              "    </tr>\n",
              "    <tr>\n",
              "      <th>4</th>\n",
              "      <td>Warteg Sebelah Alhur</td>\n",
              "      <td>-6.556168</td>\n",
              "      <td>106.724086</td>\n",
              "    </tr>\n",
              "    <tr>\n",
              "      <th>5</th>\n",
              "      <td>Depan Alhur</td>\n",
              "      <td>-6.556064</td>\n",
              "      <td>106.725050</td>\n",
              "    </tr>\n",
              "    <tr>\n",
              "      <th>6</th>\n",
              "      <td>Perumdos 1</td>\n",
              "      <td>-6.552980</td>\n",
              "      <td>106.721197</td>\n",
              "    </tr>\n",
              "    <tr>\n",
              "      <th>7</th>\n",
              "      <td>Belakang 1</td>\n",
              "      <td>-6.552237</td>\n",
              "      <td>106.717024</td>\n",
              "    </tr>\n",
              "    <tr>\n",
              "      <th>8</th>\n",
              "      <td>Sawah 1</td>\n",
              "      <td>-6.551354</td>\n",
              "      <td>106.714950</td>\n",
              "    </tr>\n",
              "    <tr>\n",
              "      <th>9</th>\n",
              "      <td>Belakang Banget</td>\n",
              "      <td>-6.547448</td>\n",
              "      <td>106.715541</td>\n",
              "    </tr>\n",
              "    <tr>\n",
              "      <th>10</th>\n",
              "      <td>Kandang</td>\n",
              "      <td>-6.545629</td>\n",
              "      <td>106.715350</td>\n",
              "    </tr>\n",
              "    <tr>\n",
              "      <th>11</th>\n",
              "      <td>Taman Hutan Kampus</td>\n",
              "      <td>-6.546201</td>\n",
              "      <td>106.717366</td>\n",
              "    </tr>\n",
              "    <tr>\n",
              "      <th>12</th>\n",
              "      <td>Depan Kandang Rusa</td>\n",
              "      <td>-6.550451</td>\n",
              "      <td>106.719482</td>\n",
              "    </tr>\n",
              "    <tr>\n",
              "      <th>13</th>\n",
              "      <td>Danau SDGS</td>\n",
              "      <td>-6.555356</td>\n",
              "      <td>106.717590</td>\n",
              "    </tr>\n",
              "  </tbody>\n",
              "</table>\n",
              "</div>\n",
              "      <button class=\"colab-df-convert\" onclick=\"convertToInteractive('df-b3f7c924-a67a-44f9-95d0-8f82d6bed9d6')\"\n",
              "              title=\"Convert this dataframe to an interactive table.\"\n",
              "              style=\"display:none;\">\n",
              "        \n",
              "  <svg xmlns=\"http://www.w3.org/2000/svg\" height=\"24px\"viewBox=\"0 0 24 24\"\n",
              "       width=\"24px\">\n",
              "    <path d=\"M0 0h24v24H0V0z\" fill=\"none\"/>\n",
              "    <path d=\"M18.56 5.44l.94 2.06.94-2.06 2.06-.94-2.06-.94-.94-2.06-.94 2.06-2.06.94zm-11 1L8.5 8.5l.94-2.06 2.06-.94-2.06-.94L8.5 2.5l-.94 2.06-2.06.94zm10 10l.94 2.06.94-2.06 2.06-.94-2.06-.94-.94-2.06-.94 2.06-2.06.94z\"/><path d=\"M17.41 7.96l-1.37-1.37c-.4-.4-.92-.59-1.43-.59-.52 0-1.04.2-1.43.59L10.3 9.45l-7.72 7.72c-.78.78-.78 2.05 0 2.83L4 21.41c.39.39.9.59 1.41.59.51 0 1.02-.2 1.41-.59l7.78-7.78 2.81-2.81c.8-.78.8-2.07 0-2.86zM5.41 20L4 18.59l7.72-7.72 1.47 1.35L5.41 20z\"/>\n",
              "  </svg>\n",
              "      </button>\n",
              "      \n",
              "  <style>\n",
              "    .colab-df-container {\n",
              "      display:flex;\n",
              "      flex-wrap:wrap;\n",
              "      gap: 12px;\n",
              "    }\n",
              "\n",
              "    .colab-df-convert {\n",
              "      background-color: #E8F0FE;\n",
              "      border: none;\n",
              "      border-radius: 50%;\n",
              "      cursor: pointer;\n",
              "      display: none;\n",
              "      fill: #1967D2;\n",
              "      height: 32px;\n",
              "      padding: 0 0 0 0;\n",
              "      width: 32px;\n",
              "    }\n",
              "\n",
              "    .colab-df-convert:hover {\n",
              "      background-color: #E2EBFA;\n",
              "      box-shadow: 0px 1px 2px rgba(60, 64, 67, 0.3), 0px 1px 3px 1px rgba(60, 64, 67, 0.15);\n",
              "      fill: #174EA6;\n",
              "    }\n",
              "\n",
              "    [theme=dark] .colab-df-convert {\n",
              "      background-color: #3B4455;\n",
              "      fill: #D2E3FC;\n",
              "    }\n",
              "\n",
              "    [theme=dark] .colab-df-convert:hover {\n",
              "      background-color: #434B5C;\n",
              "      box-shadow: 0px 1px 3px 1px rgba(0, 0, 0, 0.15);\n",
              "      filter: drop-shadow(0px 1px 2px rgba(0, 0, 0, 0.3));\n",
              "      fill: #FFFFFF;\n",
              "    }\n",
              "  </style>\n",
              "\n",
              "      <script>\n",
              "        const buttonEl =\n",
              "          document.querySelector('#df-b3f7c924-a67a-44f9-95d0-8f82d6bed9d6 button.colab-df-convert');\n",
              "        buttonEl.style.display =\n",
              "          google.colab.kernel.accessAllowed ? 'block' : 'none';\n",
              "\n",
              "        async function convertToInteractive(key) {\n",
              "          const element = document.querySelector('#df-b3f7c924-a67a-44f9-95d0-8f82d6bed9d6');\n",
              "          const dataTable =\n",
              "            await google.colab.kernel.invokeFunction('convertToInteractive',\n",
              "                                                     [key], {});\n",
              "          if (!dataTable) return;\n",
              "\n",
              "          const docLinkHtml = 'Like what you see? Visit the ' +\n",
              "            '<a target=\"_blank\" href=https://colab.research.google.com/notebooks/data_table.ipynb>data table notebook</a>'\n",
              "            + ' to learn more about interactive tables.';\n",
              "          element.innerHTML = '';\n",
              "          dataTable['output_type'] = 'display_data';\n",
              "          await google.colab.output.renderOutput(dataTable, element);\n",
              "          const docLink = document.createElement('div');\n",
              "          docLink.innerHTML = docLinkHtml;\n",
              "          element.appendChild(docLink);\n",
              "        }\n",
              "      </script>\n",
              "    </div>\n",
              "  </div>\n",
              "  "
            ]
          },
          "metadata": {},
          "execution_count": 3
        }
      ]
    },
    {
      "cell_type": "markdown",
      "source": [
        "Visualize Dataframe"
      ],
      "metadata": {
        "id": "fR5g8sc6-FjJ"
      }
    },
    {
      "cell_type": "code",
      "source": [
        "import folium\n",
        "# create a map centered on the first location\n",
        "m_raw = folium.Map(location=[df['latitude'][0], df['longitude'][0]], zoom_start=10)\n",
        "\n",
        "# add markers for each location in the DataFrame\n",
        "for index, row in df.iterrows():\n",
        "    folium.Marker(location=[row['latitude'], row['longitude']], popup=row['name']).add_to(m_raw)\n",
        "\n",
        "# display the map\n",
        "m_raw"
      ],
      "metadata": {
        "colab": {
          "base_uri": "https://localhost:8080/",
          "height": 798
        },
        "id": "juNao5LW-G0L",
        "outputId": "b4143c52-003b-48aa-f773-43c757e7a375"
      },
      "execution_count": 5,
      "outputs": [
        {
          "output_type": "execute_result",
          "data": {
            "text/plain": [
              "<folium.folium.Map at 0x7f73e602adf0>"
            ],
            "text/html": [
              "<div style=\"width:100%;\"><div style=\"position:relative;width:100%;height:0;padding-bottom:60%;\"><span style=\"color:#565656\">Make this Notebook Trusted to load map: File -> Trust Notebook</span><iframe srcdoc=\"&lt;!DOCTYPE html&gt;\n",
              "&lt;html&gt;\n",
              "&lt;head&gt;\n",
              "    \n",
              "    &lt;meta http-equiv=&quot;content-type&quot; content=&quot;text/html; charset=UTF-8&quot; /&gt;\n",
              "    \n",
              "        &lt;script&gt;\n",
              "            L_NO_TOUCH = false;\n",
              "            L_DISABLE_3D = false;\n",
              "        &lt;/script&gt;\n",
              "    \n",
              "    &lt;style&gt;html, body {width: 100%;height: 100%;margin: 0;padding: 0;}&lt;/style&gt;\n",
              "    &lt;style&gt;#map {position:absolute;top:0;bottom:0;right:0;left:0;}&lt;/style&gt;\n",
              "    &lt;script src=&quot;https://cdn.jsdelivr.net/npm/leaflet@1.9.3/dist/leaflet.js&quot;&gt;&lt;/script&gt;\n",
              "    &lt;script src=&quot;https://code.jquery.com/jquery-1.12.4.min.js&quot;&gt;&lt;/script&gt;\n",
              "    &lt;script src=&quot;https://cdn.jsdelivr.net/npm/bootstrap@5.2.2/dist/js/bootstrap.bundle.min.js&quot;&gt;&lt;/script&gt;\n",
              "    &lt;script src=&quot;https://cdnjs.cloudflare.com/ajax/libs/Leaflet.awesome-markers/2.0.2/leaflet.awesome-markers.js&quot;&gt;&lt;/script&gt;\n",
              "    &lt;link rel=&quot;stylesheet&quot; href=&quot;https://cdn.jsdelivr.net/npm/leaflet@1.9.3/dist/leaflet.css&quot;/&gt;\n",
              "    &lt;link rel=&quot;stylesheet&quot; href=&quot;https://cdn.jsdelivr.net/npm/bootstrap@5.2.2/dist/css/bootstrap.min.css&quot;/&gt;\n",
              "    &lt;link rel=&quot;stylesheet&quot; href=&quot;https://netdna.bootstrapcdn.com/bootstrap/3.0.0/css/bootstrap.min.css&quot;/&gt;\n",
              "    &lt;link rel=&quot;stylesheet&quot; href=&quot;https://cdn.jsdelivr.net/npm/@fortawesome/fontawesome-free@6.2.0/css/all.min.css&quot;/&gt;\n",
              "    &lt;link rel=&quot;stylesheet&quot; href=&quot;https://cdnjs.cloudflare.com/ajax/libs/Leaflet.awesome-markers/2.0.2/leaflet.awesome-markers.css&quot;/&gt;\n",
              "    &lt;link rel=&quot;stylesheet&quot; href=&quot;https://cdn.jsdelivr.net/gh/python-visualization/folium/folium/templates/leaflet.awesome.rotate.min.css&quot;/&gt;\n",
              "    \n",
              "            &lt;meta name=&quot;viewport&quot; content=&quot;width=device-width,\n",
              "                initial-scale=1.0, maximum-scale=1.0, user-scalable=no&quot; /&gt;\n",
              "            &lt;style&gt;\n",
              "                #map_6dd16b2793a338c1c6fb93b768e892a9 {\n",
              "                    position: relative;\n",
              "                    width: 100.0%;\n",
              "                    height: 100.0%;\n",
              "                    left: 0.0%;\n",
              "                    top: 0.0%;\n",
              "                }\n",
              "                .leaflet-container { font-size: 1rem; }\n",
              "            &lt;/style&gt;\n",
              "        \n",
              "&lt;/head&gt;\n",
              "&lt;body&gt;\n",
              "    \n",
              "    \n",
              "            &lt;div class=&quot;folium-map&quot; id=&quot;map_6dd16b2793a338c1c6fb93b768e892a9&quot; &gt;&lt;/div&gt;\n",
              "        \n",
              "&lt;/body&gt;\n",
              "&lt;script&gt;\n",
              "    \n",
              "    \n",
              "            var map_6dd16b2793a338c1c6fb93b768e892a9 = L.map(\n",
              "                &quot;map_6dd16b2793a338c1c6fb93b768e892a9&quot;,\n",
              "                {\n",
              "                    center: [-6.55984667674852, 106.731220037341],\n",
              "                    crs: L.CRS.EPSG3857,\n",
              "                    zoom: 10,\n",
              "                    zoomControl: true,\n",
              "                    preferCanvas: false,\n",
              "                }\n",
              "            );\n",
              "\n",
              "            \n",
              "\n",
              "        \n",
              "    \n",
              "            var tile_layer_1e8dcb21441cb663ce27856ee9e84028 = L.tileLayer(\n",
              "                &quot;https://{s}.tile.openstreetmap.org/{z}/{x}/{y}.png&quot;,\n",
              "                {&quot;attribution&quot;: &quot;Data by \\u0026copy; \\u003ca target=\\&quot;_blank\\&quot; href=\\&quot;http://openstreetmap.org\\&quot;\\u003eOpenStreetMap\\u003c/a\\u003e, under \\u003ca target=\\&quot;_blank\\&quot; href=\\&quot;http://www.openstreetmap.org/copyright\\&quot;\\u003eODbL\\u003c/a\\u003e.&quot;, &quot;detectRetina&quot;: false, &quot;maxNativeZoom&quot;: 18, &quot;maxZoom&quot;: 18, &quot;minZoom&quot;: 0, &quot;noWrap&quot;: false, &quot;opacity&quot;: 1, &quot;subdomains&quot;: &quot;abc&quot;, &quot;tms&quot;: false}\n",
              "            ).addTo(map_6dd16b2793a338c1c6fb93b768e892a9);\n",
              "        \n",
              "    \n",
              "            var marker_4ac3ff574e2c6eaba2d55dbaceeb006b = L.marker(\n",
              "                [-6.55984667674852, 106.731220037341],\n",
              "                {}\n",
              "            ).addTo(map_6dd16b2793a338c1c6fb93b768e892a9);\n",
              "        \n",
              "    \n",
              "        var popup_f49aaaedacc81589543ca7f6eb181b37 = L.popup({&quot;maxWidth&quot;: &quot;100%&quot;});\n",
              "\n",
              "        \n",
              "            \n",
              "                var html_1e83068ca28a64bdb71f13df9bcf3fae = $(`&lt;div id=&quot;html_1e83068ca28a64bdb71f13df9bcf3fae&quot; style=&quot;width: 100.0%; height: 100.0%;&quot;&gt;Starting Point 1 - Agrimart&lt;/div&gt;`)[0];\n",
              "                popup_f49aaaedacc81589543ca7f6eb181b37.setContent(html_1e83068ca28a64bdb71f13df9bcf3fae);\n",
              "            \n",
              "        \n",
              "\n",
              "        marker_4ac3ff574e2c6eaba2d55dbaceeb006b.bindPopup(popup_f49aaaedacc81589543ca7f6eb181b37)\n",
              "        ;\n",
              "\n",
              "        \n",
              "    \n",
              "    \n",
              "            var marker_0f97736992e1ad015bbfba0ebb5313ad = L.marker(\n",
              "                [-6.56086040150612, 106.727948585279],\n",
              "                {}\n",
              "            ).addTo(map_6dd16b2793a338c1c6fb93b768e892a9);\n",
              "        \n",
              "    \n",
              "        var popup_5ce0d617f9e8a68b6d17642af58ebf4c = L.popup({&quot;maxWidth&quot;: &quot;100%&quot;});\n",
              "\n",
              "        \n",
              "            \n",
              "                var html_40bc8bad1488c5637beb217a219936cf = $(`&lt;div id=&quot;html_40bc8bad1488c5637beb217a219936cf&quot; style=&quot;width: 100.0%; height: 100.0%;&quot;&gt;Depan Koin IPB&lt;/div&gt;`)[0];\n",
              "                popup_5ce0d617f9e8a68b6d17642af58ebf4c.setContent(html_40bc8bad1488c5637beb217a219936cf);\n",
              "            \n",
              "        \n",
              "\n",
              "        marker_0f97736992e1ad015bbfba0ebb5313ad.bindPopup(popup_5ce0d617f9e8a68b6d17642af58ebf4c)\n",
              "        ;\n",
              "\n",
              "        \n",
              "    \n",
              "    \n",
              "            var marker_6dde8da19390311367a0dac57e29743a = L.marker(\n",
              "                [-6.56067833579035, 106.725457774325],\n",
              "                {}\n",
              "            ).addTo(map_6dd16b2793a338c1c6fb93b768e892a9);\n",
              "        \n",
              "    \n",
              "        var popup_46390d578c31ac68911f212653a9596c = L.popup({&quot;maxWidth&quot;: &quot;100%&quot;});\n",
              "\n",
              "        \n",
              "            \n",
              "                var html_48e59d8d6843f8de89d0a235a2763574 = $(`&lt;div id=&quot;html_48e59d8d6843f8de89d0a235a2763574&quot; style=&quot;width: 100.0%; height: 100.0%;&quot;&gt;Depan Rektorat&lt;/div&gt;`)[0];\n",
              "                popup_46390d578c31ac68911f212653a9596c.setContent(html_48e59d8d6843f8de89d0a235a2763574);\n",
              "            \n",
              "        \n",
              "\n",
              "        marker_6dde8da19390311367a0dac57e29743a.bindPopup(popup_46390d578c31ac68911f212653a9596c)\n",
              "        ;\n",
              "\n",
              "        \n",
              "    \n",
              "    \n",
              "            var marker_ee87f7bc79e0b4faf61a00b57fa1347f = L.marker(\n",
              "                [-6.55723238992818, 106.719037577124],\n",
              "                {}\n",
              "            ).addTo(map_6dd16b2793a338c1c6fb93b768e892a9);\n",
              "        \n",
              "    \n",
              "        var popup_74be96a50dd8b4529dcb435e12d38c31 = L.popup({&quot;maxWidth&quot;: &quot;100%&quot;});\n",
              "\n",
              "        \n",
              "            \n",
              "                var html_fb58dfb69c4892e5bf817f25d15b8a54 = $(`&lt;div id=&quot;html_fb58dfb69c4892e5bf817f25d15b8a54&quot; style=&quot;width: 100.0%; height: 100.0%;&quot;&gt;Pintu Masuk ke Kiri&lt;/div&gt;`)[0];\n",
              "                popup_74be96a50dd8b4529dcb435e12d38c31.setContent(html_fb58dfb69c4892e5bf817f25d15b8a54);\n",
              "            \n",
              "        \n",
              "\n",
              "        marker_ee87f7bc79e0b4faf61a00b57fa1347f.bindPopup(popup_74be96a50dd8b4529dcb435e12d38c31)\n",
              "        ;\n",
              "\n",
              "        \n",
              "    \n",
              "    \n",
              "            var marker_24f5b2af8ff4fc17df45ce669efbdb6e = L.marker(\n",
              "                [-6.5561681108102, 106.724086099391],\n",
              "                {}\n",
              "            ).addTo(map_6dd16b2793a338c1c6fb93b768e892a9);\n",
              "        \n",
              "    \n",
              "        var popup_83e9896b8e5c83dd492f502576db2ce2 = L.popup({&quot;maxWidth&quot;: &quot;100%&quot;});\n",
              "\n",
              "        \n",
              "            \n",
              "                var html_d76304726caa43a0f3997f842d04041f = $(`&lt;div id=&quot;html_d76304726caa43a0f3997f842d04041f&quot; style=&quot;width: 100.0%; height: 100.0%;&quot;&gt;Warteg Sebelah Alhur&lt;/div&gt;`)[0];\n",
              "                popup_83e9896b8e5c83dd492f502576db2ce2.setContent(html_d76304726caa43a0f3997f842d04041f);\n",
              "            \n",
              "        \n",
              "\n",
              "        marker_24f5b2af8ff4fc17df45ce669efbdb6e.bindPopup(popup_83e9896b8e5c83dd492f502576db2ce2)\n",
              "        ;\n",
              "\n",
              "        \n",
              "    \n",
              "    \n",
              "            var marker_f0155b2f655e804956dc0ee4e9ca9d8c = L.marker(\n",
              "                [-6.55606449789467, 106.72504994857],\n",
              "                {}\n",
              "            ).addTo(map_6dd16b2793a338c1c6fb93b768e892a9);\n",
              "        \n",
              "    \n",
              "        var popup_8dbb0ff62c90a9eacc307586e2e1275e = L.popup({&quot;maxWidth&quot;: &quot;100%&quot;});\n",
              "\n",
              "        \n",
              "            \n",
              "                var html_ce5d738509588709678bf45abd74e2ea = $(`&lt;div id=&quot;html_ce5d738509588709678bf45abd74e2ea&quot; style=&quot;width: 100.0%; height: 100.0%;&quot;&gt;Depan Alhur&lt;/div&gt;`)[0];\n",
              "                popup_8dbb0ff62c90a9eacc307586e2e1275e.setContent(html_ce5d738509588709678bf45abd74e2ea);\n",
              "            \n",
              "        \n",
              "\n",
              "        marker_f0155b2f655e804956dc0ee4e9ca9d8c.bindPopup(popup_8dbb0ff62c90a9eacc307586e2e1275e)\n",
              "        ;\n",
              "\n",
              "        \n",
              "    \n",
              "    \n",
              "            var marker_2b5e279a34e6c54083bd437a40ce3cc3 = L.marker(\n",
              "                [-6.55298030470667, 106.72119739162],\n",
              "                {}\n",
              "            ).addTo(map_6dd16b2793a338c1c6fb93b768e892a9);\n",
              "        \n",
              "    \n",
              "        var popup_a7494f0c43ed992f31f6f00bd9fd8dd4 = L.popup({&quot;maxWidth&quot;: &quot;100%&quot;});\n",
              "\n",
              "        \n",
              "            \n",
              "                var html_2d2cc780a4fdb10d846f377aab2758a6 = $(`&lt;div id=&quot;html_2d2cc780a4fdb10d846f377aab2758a6&quot; style=&quot;width: 100.0%; height: 100.0%;&quot;&gt;Perumdos 1&lt;/div&gt;`)[0];\n",
              "                popup_a7494f0c43ed992f31f6f00bd9fd8dd4.setContent(html_2d2cc780a4fdb10d846f377aab2758a6);\n",
              "            \n",
              "        \n",
              "\n",
              "        marker_2b5e279a34e6c54083bd437a40ce3cc3.bindPopup(popup_a7494f0c43ed992f31f6f00bd9fd8dd4)\n",
              "        ;\n",
              "\n",
              "        \n",
              "    \n",
              "    \n",
              "            var marker_51f703f40ab85b10f9abe75c4643a3ed = L.marker(\n",
              "                [-6.5522373079451, 106.717024158738],\n",
              "                {}\n",
              "            ).addTo(map_6dd16b2793a338c1c6fb93b768e892a9);\n",
              "        \n",
              "    \n",
              "        var popup_d04cb71d19e93f8907ed213012a83f73 = L.popup({&quot;maxWidth&quot;: &quot;100%&quot;});\n",
              "\n",
              "        \n",
              "            \n",
              "                var html_d5a3b9c21787776ceef7b81c29a8f80b = $(`&lt;div id=&quot;html_d5a3b9c21787776ceef7b81c29a8f80b&quot; style=&quot;width: 100.0%; height: 100.0%;&quot;&gt;Belakang 1&lt;/div&gt;`)[0];\n",
              "                popup_d04cb71d19e93f8907ed213012a83f73.setContent(html_d5a3b9c21787776ceef7b81c29a8f80b);\n",
              "            \n",
              "        \n",
              "\n",
              "        marker_51f703f40ab85b10f9abe75c4643a3ed.bindPopup(popup_d04cb71d19e93f8907ed213012a83f73)\n",
              "        ;\n",
              "\n",
              "        \n",
              "    \n",
              "    \n",
              "            var marker_c888925743cb6a44c0cc569c15509889 = L.marker(\n",
              "                [-6.55135382523004, 106.714949658516],\n",
              "                {}\n",
              "            ).addTo(map_6dd16b2793a338c1c6fb93b768e892a9);\n",
              "        \n",
              "    \n",
              "        var popup_faabe230efd47c0501afbf9ae6209cb7 = L.popup({&quot;maxWidth&quot;: &quot;100%&quot;});\n",
              "\n",
              "        \n",
              "            \n",
              "                var html_cdf821eb18c6688d24513679d55a83fd = $(`&lt;div id=&quot;html_cdf821eb18c6688d24513679d55a83fd&quot; style=&quot;width: 100.0%; height: 100.0%;&quot;&gt;Sawah 1&lt;/div&gt;`)[0];\n",
              "                popup_faabe230efd47c0501afbf9ae6209cb7.setContent(html_cdf821eb18c6688d24513679d55a83fd);\n",
              "            \n",
              "        \n",
              "\n",
              "        marker_c888925743cb6a44c0cc569c15509889.bindPopup(popup_faabe230efd47c0501afbf9ae6209cb7)\n",
              "        ;\n",
              "\n",
              "        \n",
              "    \n",
              "    \n",
              "            var marker_490c8662faf1d97ab2141597d93fd936 = L.marker(\n",
              "                [-6.54744812970832, 106.715540884587],\n",
              "                {}\n",
              "            ).addTo(map_6dd16b2793a338c1c6fb93b768e892a9);\n",
              "        \n",
              "    \n",
              "        var popup_e8acd24e1526d547831abba7ba581bde = L.popup({&quot;maxWidth&quot;: &quot;100%&quot;});\n",
              "\n",
              "        \n",
              "            \n",
              "                var html_1298ed293e65f258e4e5d94910ce9b40 = $(`&lt;div id=&quot;html_1298ed293e65f258e4e5d94910ce9b40&quot; style=&quot;width: 100.0%; height: 100.0%;&quot;&gt;Belakang Banget&lt;/div&gt;`)[0];\n",
              "                popup_e8acd24e1526d547831abba7ba581bde.setContent(html_1298ed293e65f258e4e5d94910ce9b40);\n",
              "            \n",
              "        \n",
              "\n",
              "        marker_490c8662faf1d97ab2141597d93fd936.bindPopup(popup_e8acd24e1526d547831abba7ba581bde)\n",
              "        ;\n",
              "\n",
              "        \n",
              "    \n",
              "    \n",
              "            var marker_9afb08f26657eb12782778474477005a = L.marker(\n",
              "                [-6.54562895605031, 106.715349569247],\n",
              "                {}\n",
              "            ).addTo(map_6dd16b2793a338c1c6fb93b768e892a9);\n",
              "        \n",
              "    \n",
              "        var popup_69fcfca90fa34c90faee41ca6542e5e7 = L.popup({&quot;maxWidth&quot;: &quot;100%&quot;});\n",
              "\n",
              "        \n",
              "            \n",
              "                var html_9f058a0f7e899c4588257d1fd572e2a4 = $(`&lt;div id=&quot;html_9f058a0f7e899c4588257d1fd572e2a4&quot; style=&quot;width: 100.0%; height: 100.0%;&quot;&gt;Kandang&lt;/div&gt;`)[0];\n",
              "                popup_69fcfca90fa34c90faee41ca6542e5e7.setContent(html_9f058a0f7e899c4588257d1fd572e2a4);\n",
              "            \n",
              "        \n",
              "\n",
              "        marker_9afb08f26657eb12782778474477005a.bindPopup(popup_69fcfca90fa34c90faee41ca6542e5e7)\n",
              "        ;\n",
              "\n",
              "        \n",
              "    \n",
              "    \n",
              "            var marker_f0fe3a7e0ad29b580885b343812eae59 = L.marker(\n",
              "                [-6.54620144798639, 106.717365571046],\n",
              "                {}\n",
              "            ).addTo(map_6dd16b2793a338c1c6fb93b768e892a9);\n",
              "        \n",
              "    \n",
              "        var popup_bd0aa6f8a62b5542cf0ad94beaa90653 = L.popup({&quot;maxWidth&quot;: &quot;100%&quot;});\n",
              "\n",
              "        \n",
              "            \n",
              "                var html_ed3b250e73ada2ff1aaa1304fb5da5de = $(`&lt;div id=&quot;html_ed3b250e73ada2ff1aaa1304fb5da5de&quot; style=&quot;width: 100.0%; height: 100.0%;&quot;&gt;Taman Hutan Kampus&lt;/div&gt;`)[0];\n",
              "                popup_bd0aa6f8a62b5542cf0ad94beaa90653.setContent(html_ed3b250e73ada2ff1aaa1304fb5da5de);\n",
              "            \n",
              "        \n",
              "\n",
              "        marker_f0fe3a7e0ad29b580885b343812eae59.bindPopup(popup_bd0aa6f8a62b5542cf0ad94beaa90653)\n",
              "        ;\n",
              "\n",
              "        \n",
              "    \n",
              "    \n",
              "            var marker_6906ba04b123e2b6cb23fb3b97b90b0a = L.marker(\n",
              "                [-6.55045102112322, 106.719481990736],\n",
              "                {}\n",
              "            ).addTo(map_6dd16b2793a338c1c6fb93b768e892a9);\n",
              "        \n",
              "    \n",
              "        var popup_7ed1cd09ad6c5181d98e9971616a5738 = L.popup({&quot;maxWidth&quot;: &quot;100%&quot;});\n",
              "\n",
              "        \n",
              "            \n",
              "                var html_395643c6f23e12f33b86efe04eaee8f3 = $(`&lt;div id=&quot;html_395643c6f23e12f33b86efe04eaee8f3&quot; style=&quot;width: 100.0%; height: 100.0%;&quot;&gt;Depan Kandang Rusa&lt;/div&gt;`)[0];\n",
              "                popup_7ed1cd09ad6c5181d98e9971616a5738.setContent(html_395643c6f23e12f33b86efe04eaee8f3);\n",
              "            \n",
              "        \n",
              "\n",
              "        marker_6906ba04b123e2b6cb23fb3b97b90b0a.bindPopup(popup_7ed1cd09ad6c5181d98e9971616a5738)\n",
              "        ;\n",
              "\n",
              "        \n",
              "    \n",
              "    \n",
              "            var marker_ad1dba4a1306239566f0d4a8ef8ebacd = L.marker(\n",
              "                [-6.55535606112686, 106.717589757062],\n",
              "                {}\n",
              "            ).addTo(map_6dd16b2793a338c1c6fb93b768e892a9);\n",
              "        \n",
              "    \n",
              "        var popup_5eb05452f6cbd419f3082bf1083a2fdb = L.popup({&quot;maxWidth&quot;: &quot;100%&quot;});\n",
              "\n",
              "        \n",
              "            \n",
              "                var html_85a233a7e30282b5a1be36e2b9b2f698 = $(`&lt;div id=&quot;html_85a233a7e30282b5a1be36e2b9b2f698&quot; style=&quot;width: 100.0%; height: 100.0%;&quot;&gt;Danau SDGS&lt;/div&gt;`)[0];\n",
              "                popup_5eb05452f6cbd419f3082bf1083a2fdb.setContent(html_85a233a7e30282b5a1be36e2b9b2f698);\n",
              "            \n",
              "        \n",
              "\n",
              "        marker_ad1dba4a1306239566f0d4a8ef8ebacd.bindPopup(popup_5eb05452f6cbd419f3082bf1083a2fdb)\n",
              "        ;\n",
              "\n",
              "        \n",
              "    \n",
              "&lt;/script&gt;\n",
              "&lt;/html&gt;\" style=\"position:absolute;width:100%;height:100%;left:0;top:0;border:none !important;\" allowfullscreen webkitallowfullscreen mozallowfullscreen></iframe></div></div>"
            ]
          },
          "metadata": {},
          "execution_count": 5
        }
      ]
    },
    {
      "cell_type": "markdown",
      "source": [
        "###Generate Routes"
      ],
      "metadata": {
        "id": "b3EqmOLuCP0x"
      }
    },
    {
      "cell_type": "markdown",
      "source": [
        "Bikin rute random"
      ],
      "metadata": {
        "id": "jr6a070u1aRn"
      }
    },
    {
      "cell_type": "code",
      "source": [
        "import random\n",
        "import json\n",
        "import requests\n",
        "\n",
        "def routes_maker(total_point, max_distance, threshold=300):\n",
        "    subset = []\n",
        "    # define start and end coordinates\n",
        "    start = coordinates[0]\n",
        "    end = coordinates[0]\n",
        "\n",
        "    # randomly select a subset of coordinates\n",
        "    subset = random.sample(coordinates, k=total_point)  # k is the number of coordinates in the subset\n",
        "\n",
        "    # add the start and end coordinates to the beginning and end of the subset\n",
        "    subset.insert(0, start)\n",
        "    subset.append(end)\n",
        "\n",
        "    api_url = 'https://api.openrouteservice.org/v2/directions/foot-walking'\n",
        "    api_key = '5b3ce3597851110001cf6248d4725ac662f8461eb589679758fb20ea'\n",
        "\n",
        "    locations = [list(r) for r in subset]\n",
        "    total_distance = 0\n",
        "    total_duration = 0\n",
        "\n",
        "    for i in range(len(locations)-1):\n",
        "        # Define the start and end coordinates for the API call\n",
        "        start_coords = f\"{locations[i][1]},{locations[i][0]}\"\n",
        "        end_coords = f\"{locations[i+1][1]},{locations[i+1][0]}\"\n",
        "        \n",
        "        # Define the API call parameters, including the start and end coordinates, the API key, and the travel mode (walking)\n",
        "        params = {\n",
        "            'api_key': api_key,\n",
        "            'start': start_coords,\n",
        "            'end': end_coords,\n",
        "            'profile': 'foot-walking',\n",
        "        }\n",
        "        \n",
        "        # Make the API call and parse the response as JSON\n",
        "        response = requests.get(api_url, params=params)\n",
        "        data = json.loads(response.text)\n",
        "        # print(data)\n",
        "        # Extract the walking distance and duration from the response\n",
        "        distance = data['features'][0]['properties']['segments'][0]['distance']\n",
        "        duration = data['features'][0]['properties']['segments'][0]['duration']\n",
        "        # elevation = data['features'][0]['properties']['segments'][0]['steps'][0]['elevation']\n",
        "\n",
        "        print(f\"Distance between locations {i+1} and {i+2}: {distance:.2f} meters\")\n",
        "\n",
        "        # total distance and duration\n",
        "        total_distance += distance\n",
        "        total_duration += duration\n",
        "        \n",
        "        # visualize the route\n",
        "        m = folium.Map(location=start, zoom_start=14)\n",
        "        folium.PolyLine(locations=[list(reversed(coord)) \n",
        "                              for coord in \n",
        "                              data['features'][0]['geometry']['coordinates']]).add_to(m)\n",
        "\n",
        "    # print total distance and duration\n",
        "    print(f\"Total distance: {total_distance:.2f} meters\")\n",
        "    print(f\"Total duration: {total_duration:.2f} seconds\")\n",
        "    \n",
        "    # add marker to map\n",
        "    folium.Marker(location=start, popup='Start here', icon=folium.Icon(color='green', prefix='fa', icon='running')).add_to(m)\n",
        "    folium.Marker(location=locations[len(locations) // 2], popup='Finish here (turn around)', icon=folium.Icon(color='blue',prefix='fa', icon='undo')).add_to(m)\n",
        "\n",
        "    # if requirements not satisfied, run the function again!\n",
        "    if total_distance < max_distance + threshold:\n",
        "      return total_distance, m, subset \n",
        "    else:      \n",
        "      return routes_maker(total_point, max_distance)"
      ],
      "metadata": {
        "id": "pRVlc7NG-RsJ"
      },
      "execution_count": 6,
      "outputs": []
    },
    {
      "cell_type": "code",
      "source": [
        "total_distances, m, subset = routes_maker(2, 5000)"
      ],
      "metadata": {
        "colab": {
          "base_uri": "https://localhost:8080/"
        },
        "id": "e2tY_fza2-Nv",
        "outputId": "959dce2d-48b0-43fe-c285-4500b4bdb830"
      },
      "execution_count": 7,
      "outputs": [
        {
          "output_type": "stream",
          "name": "stdout",
          "text": [
            "Distance between locations 1 and 2: 2329.30 meters\n",
            "Distance between locations 2 and 3: 949.90 meters\n",
            "Distance between locations 3 and 4: 3071.90 meters\n",
            "Total distance: 6351.10 meters\n",
            "Total duration: 4572.70 seconds\n",
            "Distance between locations 1 and 2: 1079.10 meters\n",
            "Distance between locations 2 and 3: 668.90 meters\n",
            "Distance between locations 3 and 4: 1639.30 meters\n",
            "Total distance: 3387.30 meters\n",
            "Total duration: 2438.90 seconds\n"
          ]
        }
      ]
    },
    {
      "cell_type": "code",
      "source": [
        "routes = [total_distances] + subset \n",
        "routes"
      ],
      "metadata": {
        "colab": {
          "base_uri": "https://localhost:8080/"
        },
        "id": "-cDcsrktmRVc",
        "outputId": "699ff195-1750-46bf-a721-d70263b53625"
      },
      "execution_count": 76,
      "outputs": [
        {
          "output_type": "execute_result",
          "data": {
            "text/plain": [
              "[3387.3,\n",
              " (-6.55984667674852, 106.731220037341),\n",
              " (-6.5561681108102, 106.724086099391),\n",
              " (-6.55723238992818, 106.719037577124),\n",
              " (-6.55984667674852, 106.731220037341)]"
            ]
          },
          "metadata": {},
          "execution_count": 76
        }
      ]
    },
    {
      "cell_type": "markdown",
      "source": [
        "Elevation Max, Min, Difference"
      ],
      "metadata": {
        "id": "eeHzKTR5-z3d"
      }
    },
    {
      "cell_type": "code",
      "source": [
        "def get_elevations(coordinates):\n",
        "    \"\"\"Lihat dokumentasi disini bro https://www.opentopodata.org/\"\"\"\n",
        "\n",
        "    # Build the API URL for the OpenTopo API\n",
        "    url = \"https://api.opentopodata.org/v1/aster30m\"\n",
        "\n",
        "    # Make the API call for each coordinate and extract the elevation data\n",
        "    elevations = []\n",
        "    for coord in coordinates:\n",
        "        lat, lon = coord\n",
        "        query = f\"{url}?locations={lat},{lon}\"\n",
        "        response = requests.get(query)\n",
        "        if response.status_code == 200:\n",
        "            data = response.json()\n",
        "            elevation = data[\"results\"][0][\"elevation\"]\n",
        "            elevations.append(elevation)\n",
        "        else:\n",
        "            elevations.append(None)\n",
        "\n",
        "    # Return the list of elevations\n",
        "    return elevations"
      ],
      "metadata": {
        "id": "T8QOv9zx2Na-"
      },
      "execution_count": 17,
      "outputs": []
    },
    {
      "cell_type": "code",
      "source": [
        "subset_elevations = get_elevations(subset)\n",
        "subset_elevations"
      ],
      "metadata": {
        "colab": {
          "base_uri": "https://localhost:8080/"
        },
        "id": "MbHgSv5x-H_9",
        "outputId": "77510ee2-9ab4-4f6a-f611-8526ec7c807c"
      },
      "execution_count": 18,
      "outputs": [
        {
          "output_type": "execute_result",
          "data": {
            "text/plain": [
              "[184.0, 182.0, 176.0, 184.0]"
            ]
          },
          "metadata": {},
          "execution_count": 18
        }
      ]
    },
    {
      "cell_type": "code",
      "source": [
        "max_elevation = max(subset_elevations)\n",
        "min_elevation = min(subset_elevations)\n",
        "elevation_difficulty = max_elevation - min_elevation\n",
        "\n",
        "max_elevation, min_elevation, elevation_difficulty"
      ],
      "metadata": {
        "colab": {
          "base_uri": "https://localhost:8080/"
        },
        "id": "wWlFGAy8-aIX",
        "outputId": "9ce846e3-0587-42f6-f9eb-5f56ce420f73"
      },
      "execution_count": 19,
      "outputs": [
        {
          "output_type": "execute_result",
          "data": {
            "text/plain": [
              "(184.0, 176.0, 8.0)"
            ]
          },
          "metadata": {},
          "execution_count": 19
        }
      ]
    },
    {
      "cell_type": "markdown",
      "source": [
        "Initial Dataframe"
      ],
      "metadata": {
        "id": "2EtKJJJ5cvQf"
      }
    },
    {
      "cell_type": "code",
      "source": [
        "import numpy as np\n",
        "# Create a dictionary with the data and column names\n",
        "routes_dict = {\n",
        "              'id': np.random.randint(100, 1000),\n",
        "              'distance (m)': routes[0],\n",
        "             'route_coordinate (lat,lon)': [routes[1:5]],\n",
        "             'max_elevation (m)': max_elevation,\n",
        "             'min_elevation (m)': min_elevation,\n",
        "             'difficulty (m)': elevation_difficulty}"
      ],
      "metadata": {
        "id": "GCxR1B9Dj5To"
      },
      "execution_count": 95,
      "outputs": []
    },
    {
      "cell_type": "code",
      "source": [
        "routes_dict"
      ],
      "metadata": {
        "colab": {
          "base_uri": "https://localhost:8080/"
        },
        "id": "mCkZUW8Sgpth",
        "outputId": "744a0c1a-8061-4875-fa7c-4c054383bd06"
      },
      "execution_count": 96,
      "outputs": [
        {
          "output_type": "execute_result",
          "data": {
            "text/plain": [
              "{'id': 609,\n",
              " 'distance (m)': 3387.3,\n",
              " 'route_coordinate (lat,lon)': [[(-6.55984667674852, 106.731220037341),\n",
              "   (-6.5561681108102, 106.724086099391),\n",
              "   (-6.55723238992818, 106.719037577124),\n",
              "   (-6.55984667674852, 106.731220037341)]],\n",
              " 'max_elevation (m)': 184.0,\n",
              " 'min_elevation (m)': 176.0,\n",
              " 'difficulty (m)': 8.0}"
            ]
          },
          "metadata": {},
          "execution_count": 96
        }
      ]
    },
    {
      "cell_type": "code",
      "source": [
        "df_routes = pd.DataFrame(routes_dict)"
      ],
      "metadata": {
        "id": "RN-p4EKOdmXa"
      },
      "execution_count": 97,
      "outputs": []
    },
    {
      "cell_type": "code",
      "source": [
        "df_routes"
      ],
      "metadata": {
        "colab": {
          "base_uri": "https://localhost:8080/",
          "height": 80
        },
        "id": "Rv2I6PPxh0jo",
        "outputId": "834673ea-a837-416a-8cfa-dbdaab211791"
      },
      "execution_count": 98,
      "outputs": [
        {
          "output_type": "execute_result",
          "data": {
            "text/plain": [
              "    id  distance (m)                         route_coordinate (lat,lon)  \\\n",
              "0  609        3387.3  [(-6.55984667674852, 106.731220037341), (-6.55...   \n",
              "\n",
              "   max_elevation (m)  min_elevation (m)  difficulty (m)  \n",
              "0              184.0              176.0             8.0  "
            ],
            "text/html": [
              "\n",
              "  <div id=\"df-09ef143f-a9ad-41f9-a2e6-822bf8b240e9\">\n",
              "    <div class=\"colab-df-container\">\n",
              "      <div>\n",
              "<style scoped>\n",
              "    .dataframe tbody tr th:only-of-type {\n",
              "        vertical-align: middle;\n",
              "    }\n",
              "\n",
              "    .dataframe tbody tr th {\n",
              "        vertical-align: top;\n",
              "    }\n",
              "\n",
              "    .dataframe thead th {\n",
              "        text-align: right;\n",
              "    }\n",
              "</style>\n",
              "<table border=\"1\" class=\"dataframe\">\n",
              "  <thead>\n",
              "    <tr style=\"text-align: right;\">\n",
              "      <th></th>\n",
              "      <th>id</th>\n",
              "      <th>distance (m)</th>\n",
              "      <th>route_coordinate (lat,lon)</th>\n",
              "      <th>max_elevation (m)</th>\n",
              "      <th>min_elevation (m)</th>\n",
              "      <th>difficulty (m)</th>\n",
              "    </tr>\n",
              "  </thead>\n",
              "  <tbody>\n",
              "    <tr>\n",
              "      <th>0</th>\n",
              "      <td>609</td>\n",
              "      <td>3387.3</td>\n",
              "      <td>[(-6.55984667674852, 106.731220037341), (-6.55...</td>\n",
              "      <td>184.0</td>\n",
              "      <td>176.0</td>\n",
              "      <td>8.0</td>\n",
              "    </tr>\n",
              "  </tbody>\n",
              "</table>\n",
              "</div>\n",
              "      <button class=\"colab-df-convert\" onclick=\"convertToInteractive('df-09ef143f-a9ad-41f9-a2e6-822bf8b240e9')\"\n",
              "              title=\"Convert this dataframe to an interactive table.\"\n",
              "              style=\"display:none;\">\n",
              "        \n",
              "  <svg xmlns=\"http://www.w3.org/2000/svg\" height=\"24px\"viewBox=\"0 0 24 24\"\n",
              "       width=\"24px\">\n",
              "    <path d=\"M0 0h24v24H0V0z\" fill=\"none\"/>\n",
              "    <path d=\"M18.56 5.44l.94 2.06.94-2.06 2.06-.94-2.06-.94-.94-2.06-.94 2.06-2.06.94zm-11 1L8.5 8.5l.94-2.06 2.06-.94-2.06-.94L8.5 2.5l-.94 2.06-2.06.94zm10 10l.94 2.06.94-2.06 2.06-.94-2.06-.94-.94-2.06-.94 2.06-2.06.94z\"/><path d=\"M17.41 7.96l-1.37-1.37c-.4-.4-.92-.59-1.43-.59-.52 0-1.04.2-1.43.59L10.3 9.45l-7.72 7.72c-.78.78-.78 2.05 0 2.83L4 21.41c.39.39.9.59 1.41.59.51 0 1.02-.2 1.41-.59l7.78-7.78 2.81-2.81c.8-.78.8-2.07 0-2.86zM5.41 20L4 18.59l7.72-7.72 1.47 1.35L5.41 20z\"/>\n",
              "  </svg>\n",
              "      </button>\n",
              "      \n",
              "  <style>\n",
              "    .colab-df-container {\n",
              "      display:flex;\n",
              "      flex-wrap:wrap;\n",
              "      gap: 12px;\n",
              "    }\n",
              "\n",
              "    .colab-df-convert {\n",
              "      background-color: #E8F0FE;\n",
              "      border: none;\n",
              "      border-radius: 50%;\n",
              "      cursor: pointer;\n",
              "      display: none;\n",
              "      fill: #1967D2;\n",
              "      height: 32px;\n",
              "      padding: 0 0 0 0;\n",
              "      width: 32px;\n",
              "    }\n",
              "\n",
              "    .colab-df-convert:hover {\n",
              "      background-color: #E2EBFA;\n",
              "      box-shadow: 0px 1px 2px rgba(60, 64, 67, 0.3), 0px 1px 3px 1px rgba(60, 64, 67, 0.15);\n",
              "      fill: #174EA6;\n",
              "    }\n",
              "\n",
              "    [theme=dark] .colab-df-convert {\n",
              "      background-color: #3B4455;\n",
              "      fill: #D2E3FC;\n",
              "    }\n",
              "\n",
              "    [theme=dark] .colab-df-convert:hover {\n",
              "      background-color: #434B5C;\n",
              "      box-shadow: 0px 1px 3px 1px rgba(0, 0, 0, 0.15);\n",
              "      filter: drop-shadow(0px 1px 2px rgba(0, 0, 0, 0.3));\n",
              "      fill: #FFFFFF;\n",
              "    }\n",
              "  </style>\n",
              "\n",
              "      <script>\n",
              "        const buttonEl =\n",
              "          document.querySelector('#df-09ef143f-a9ad-41f9-a2e6-822bf8b240e9 button.colab-df-convert');\n",
              "        buttonEl.style.display =\n",
              "          google.colab.kernel.accessAllowed ? 'block' : 'none';\n",
              "\n",
              "        async function convertToInteractive(key) {\n",
              "          const element = document.querySelector('#df-09ef143f-a9ad-41f9-a2e6-822bf8b240e9');\n",
              "          const dataTable =\n",
              "            await google.colab.kernel.invokeFunction('convertToInteractive',\n",
              "                                                     [key], {});\n",
              "          if (!dataTable) return;\n",
              "\n",
              "          const docLinkHtml = 'Like what you see? Visit the ' +\n",
              "            '<a target=\"_blank\" href=https://colab.research.google.com/notebooks/data_table.ipynb>data table notebook</a>'\n",
              "            + ' to learn more about interactive tables.';\n",
              "          element.innerHTML = '';\n",
              "          dataTable['output_type'] = 'display_data';\n",
              "          await google.colab.output.renderOutput(dataTable, element);\n",
              "          const docLink = document.createElement('div');\n",
              "          docLink.innerHTML = docLinkHtml;\n",
              "          element.appendChild(docLink);\n",
              "        }\n",
              "      </script>\n",
              "    </div>\n",
              "  </div>\n",
              "  "
            ]
          },
          "metadata": {},
          "execution_count": 98
        }
      ]
    },
    {
      "cell_type": "markdown",
      "source": [
        "Visualisasi rute"
      ],
      "metadata": {
        "id": "Uj5rYn2mGnjk"
      }
    },
    {
      "cell_type": "code",
      "source": [
        "m"
      ],
      "metadata": {
        "colab": {
          "base_uri": "https://localhost:8080/",
          "height": 798
        },
        "id": "7SaiEF1vDKR6",
        "outputId": "7eeb3bfc-b88a-400f-8541-f5d75ce4b053"
      },
      "execution_count": 99,
      "outputs": [
        {
          "output_type": "execute_result",
          "data": {
            "text/plain": [
              "<folium.folium.Map at 0x7f73e5901670>"
            ],
            "text/html": [
              "<div style=\"width:100%;\"><div style=\"position:relative;width:100%;height:0;padding-bottom:60%;\"><span style=\"color:#565656\">Make this Notebook Trusted to load map: File -> Trust Notebook</span><iframe srcdoc=\"&lt;!DOCTYPE html&gt;\n",
              "&lt;html&gt;\n",
              "&lt;head&gt;\n",
              "    \n",
              "    &lt;meta http-equiv=&quot;content-type&quot; content=&quot;text/html; charset=UTF-8&quot; /&gt;\n",
              "    \n",
              "        &lt;script&gt;\n",
              "            L_NO_TOUCH = false;\n",
              "            L_DISABLE_3D = false;\n",
              "        &lt;/script&gt;\n",
              "    \n",
              "    &lt;style&gt;html, body {width: 100%;height: 100%;margin: 0;padding: 0;}&lt;/style&gt;\n",
              "    &lt;style&gt;#map {position:absolute;top:0;bottom:0;right:0;left:0;}&lt;/style&gt;\n",
              "    &lt;script src=&quot;https://cdn.jsdelivr.net/npm/leaflet@1.9.3/dist/leaflet.js&quot;&gt;&lt;/script&gt;\n",
              "    &lt;script src=&quot;https://code.jquery.com/jquery-1.12.4.min.js&quot;&gt;&lt;/script&gt;\n",
              "    &lt;script src=&quot;https://cdn.jsdelivr.net/npm/bootstrap@5.2.2/dist/js/bootstrap.bundle.min.js&quot;&gt;&lt;/script&gt;\n",
              "    &lt;script src=&quot;https://cdnjs.cloudflare.com/ajax/libs/Leaflet.awesome-markers/2.0.2/leaflet.awesome-markers.js&quot;&gt;&lt;/script&gt;\n",
              "    &lt;link rel=&quot;stylesheet&quot; href=&quot;https://cdn.jsdelivr.net/npm/leaflet@1.9.3/dist/leaflet.css&quot;/&gt;\n",
              "    &lt;link rel=&quot;stylesheet&quot; href=&quot;https://cdn.jsdelivr.net/npm/bootstrap@5.2.2/dist/css/bootstrap.min.css&quot;/&gt;\n",
              "    &lt;link rel=&quot;stylesheet&quot; href=&quot;https://netdna.bootstrapcdn.com/bootstrap/3.0.0/css/bootstrap.min.css&quot;/&gt;\n",
              "    &lt;link rel=&quot;stylesheet&quot; href=&quot;https://cdn.jsdelivr.net/npm/@fortawesome/fontawesome-free@6.2.0/css/all.min.css&quot;/&gt;\n",
              "    &lt;link rel=&quot;stylesheet&quot; href=&quot;https://cdnjs.cloudflare.com/ajax/libs/Leaflet.awesome-markers/2.0.2/leaflet.awesome-markers.css&quot;/&gt;\n",
              "    &lt;link rel=&quot;stylesheet&quot; href=&quot;https://cdn.jsdelivr.net/gh/python-visualization/folium/folium/templates/leaflet.awesome.rotate.min.css&quot;/&gt;\n",
              "    \n",
              "            &lt;meta name=&quot;viewport&quot; content=&quot;width=device-width,\n",
              "                initial-scale=1.0, maximum-scale=1.0, user-scalable=no&quot; /&gt;\n",
              "            &lt;style&gt;\n",
              "                #map_55e5f5f28dcec926d1cd742d02742a33 {\n",
              "                    position: relative;\n",
              "                    width: 100.0%;\n",
              "                    height: 100.0%;\n",
              "                    left: 0.0%;\n",
              "                    top: 0.0%;\n",
              "                }\n",
              "                .leaflet-container { font-size: 1rem; }\n",
              "            &lt;/style&gt;\n",
              "        \n",
              "&lt;/head&gt;\n",
              "&lt;body&gt;\n",
              "    \n",
              "    \n",
              "            &lt;div class=&quot;folium-map&quot; id=&quot;map_55e5f5f28dcec926d1cd742d02742a33&quot; &gt;&lt;/div&gt;\n",
              "        \n",
              "&lt;/body&gt;\n",
              "&lt;script&gt;\n",
              "    \n",
              "    \n",
              "            var map_55e5f5f28dcec926d1cd742d02742a33 = L.map(\n",
              "                &quot;map_55e5f5f28dcec926d1cd742d02742a33&quot;,\n",
              "                {\n",
              "                    center: [-6.55984667674852, 106.731220037341],\n",
              "                    crs: L.CRS.EPSG3857,\n",
              "                    zoom: 14,\n",
              "                    zoomControl: true,\n",
              "                    preferCanvas: false,\n",
              "                }\n",
              "            );\n",
              "\n",
              "            \n",
              "\n",
              "        \n",
              "    \n",
              "            var tile_layer_4a7da9e1e325eb06a98fa41859c9a02a = L.tileLayer(\n",
              "                &quot;https://{s}.tile.openstreetmap.org/{z}/{x}/{y}.png&quot;,\n",
              "                {&quot;attribution&quot;: &quot;Data by \\u0026copy; \\u003ca target=\\&quot;_blank\\&quot; href=\\&quot;http://openstreetmap.org\\&quot;\\u003eOpenStreetMap\\u003c/a\\u003e, under \\u003ca target=\\&quot;_blank\\&quot; href=\\&quot;http://www.openstreetmap.org/copyright\\&quot;\\u003eODbL\\u003c/a\\u003e.&quot;, &quot;detectRetina&quot;: false, &quot;maxNativeZoom&quot;: 18, &quot;maxZoom&quot;: 18, &quot;minZoom&quot;: 0, &quot;noWrap&quot;: false, &quot;opacity&quot;: 1, &quot;subdomains&quot;: &quot;abc&quot;, &quot;tms&quot;: false}\n",
              "            ).addTo(map_55e5f5f28dcec926d1cd742d02742a33);\n",
              "        \n",
              "    \n",
              "            var poly_line_a0374e0adb36beed01a3ab31f407b5a4 = L.polyline(\n",
              "                [[-6.557232, 106.719038], [-6.557137, 106.719044], [-6.557052, 106.719078], [-6.557242, 106.7193], [-6.557258, 106.71931], [-6.557281, 106.719314], [-6.557301, 106.719982], [-6.557311, 106.720355], [-6.557297, 106.720428], [-6.557265, 106.720489], [-6.557222, 106.720525], [-6.556969, 106.720681], [-6.556977, 106.721292], [-6.556972, 106.721326], [-6.556975, 106.721401], [-6.556976, 106.72167], [-6.556956, 106.721714], [-6.556921, 106.721731], [-6.556887, 106.721732], [-6.556892, 106.72211], [-6.556891, 106.722426], [-6.556995, 106.722384], [-6.557042, 106.722387], [-6.55707, 106.722414], [-6.557067, 106.723096], [-6.557066, 106.723231], [-6.557065, 106.723375], [-6.557075, 106.724381], [-6.557097, 106.724759], [-6.557121, 106.725231], [-6.557133, 106.72546], [-6.557153, 106.725861], [-6.557223, 106.726407], [-6.557253, 106.726718], [-6.557467, 106.726767], [-6.557772, 106.726814], [-6.55796, 106.726834], [-6.55818, 106.726832], [-6.558255, 106.726841], [-6.558382, 106.726905], [-6.558852, 106.727142], [-6.558981, 106.727212], [-6.559049, 106.727266], [-6.559201, 106.727444], [-6.559347, 106.727594], [-6.559472, 106.727759], [-6.559627, 106.727929], [-6.559694, 106.728061], [-6.559841, 106.729035], [-6.559851, 106.729216], [-6.559916, 106.73034], [-6.559771, 106.730456], [-6.559727, 106.730494], [-6.559622, 106.730561], [-6.559687, 106.730679], [-6.55955, 106.730776], [-6.559858, 106.731212]],\n",
              "                {&quot;bubblingMouseEvents&quot;: true, &quot;color&quot;: &quot;#3388ff&quot;, &quot;dashArray&quot;: null, &quot;dashOffset&quot;: null, &quot;fill&quot;: false, &quot;fillColor&quot;: &quot;#3388ff&quot;, &quot;fillOpacity&quot;: 0.2, &quot;fillRule&quot;: &quot;evenodd&quot;, &quot;lineCap&quot;: &quot;round&quot;, &quot;lineJoin&quot;: &quot;round&quot;, &quot;noClip&quot;: false, &quot;opacity&quot;: 1.0, &quot;smoothFactor&quot;: 1.0, &quot;stroke&quot;: true, &quot;weight&quot;: 3}\n",
              "            ).addTo(map_55e5f5f28dcec926d1cd742d02742a33);\n",
              "        \n",
              "    \n",
              "            var marker_e64cb7c39f3fa07724320d6931e3c29e = L.marker(\n",
              "                [-6.55984667674852, 106.731220037341],\n",
              "                {}\n",
              "            ).addTo(map_55e5f5f28dcec926d1cd742d02742a33);\n",
              "        \n",
              "    \n",
              "            var icon_3fc02d11c9494c0b400ed2c3c60ca765 = L.AwesomeMarkers.icon(\n",
              "                {&quot;extraClasses&quot;: &quot;fa-rotate-0&quot;, &quot;icon&quot;: &quot;running&quot;, &quot;iconColor&quot;: &quot;white&quot;, &quot;markerColor&quot;: &quot;green&quot;, &quot;prefix&quot;: &quot;fa&quot;}\n",
              "            );\n",
              "            marker_e64cb7c39f3fa07724320d6931e3c29e.setIcon(icon_3fc02d11c9494c0b400ed2c3c60ca765);\n",
              "        \n",
              "    \n",
              "        var popup_b880f2b81d6fe73e5c784d28aa02277c = L.popup({&quot;maxWidth&quot;: &quot;100%&quot;});\n",
              "\n",
              "        \n",
              "            \n",
              "                var html_6bd5ace6a3e33f9c2488523bcdb98f6d = $(`&lt;div id=&quot;html_6bd5ace6a3e33f9c2488523bcdb98f6d&quot; style=&quot;width: 100.0%; height: 100.0%;&quot;&gt;Start here&lt;/div&gt;`)[0];\n",
              "                popup_b880f2b81d6fe73e5c784d28aa02277c.setContent(html_6bd5ace6a3e33f9c2488523bcdb98f6d);\n",
              "            \n",
              "        \n",
              "\n",
              "        marker_e64cb7c39f3fa07724320d6931e3c29e.bindPopup(popup_b880f2b81d6fe73e5c784d28aa02277c)\n",
              "        ;\n",
              "\n",
              "        \n",
              "    \n",
              "    \n",
              "            var marker_b6dc1839ff19bccbfb1143797875aab9 = L.marker(\n",
              "                [-6.55723238992818, 106.719037577124],\n",
              "                {}\n",
              "            ).addTo(map_55e5f5f28dcec926d1cd742d02742a33);\n",
              "        \n",
              "    \n",
              "            var icon_280568163bf5ce01560b144e1632b1e8 = L.AwesomeMarkers.icon(\n",
              "                {&quot;extraClasses&quot;: &quot;fa-rotate-0&quot;, &quot;icon&quot;: &quot;undo&quot;, &quot;iconColor&quot;: &quot;white&quot;, &quot;markerColor&quot;: &quot;blue&quot;, &quot;prefix&quot;: &quot;fa&quot;}\n",
              "            );\n",
              "            marker_b6dc1839ff19bccbfb1143797875aab9.setIcon(icon_280568163bf5ce01560b144e1632b1e8);\n",
              "        \n",
              "    \n",
              "        var popup_4bde55af3d68e380188859db945709c0 = L.popup({&quot;maxWidth&quot;: &quot;100%&quot;});\n",
              "\n",
              "        \n",
              "            \n",
              "                var html_6ea287cab1eea6914383e733d73e3db8 = $(`&lt;div id=&quot;html_6ea287cab1eea6914383e733d73e3db8&quot; style=&quot;width: 100.0%; height: 100.0%;&quot;&gt;Finish here (turn around)&lt;/div&gt;`)[0];\n",
              "                popup_4bde55af3d68e380188859db945709c0.setContent(html_6ea287cab1eea6914383e733d73e3db8);\n",
              "            \n",
              "        \n",
              "\n",
              "        marker_b6dc1839ff19bccbfb1143797875aab9.bindPopup(popup_4bde55af3d68e380188859db945709c0)\n",
              "        ;\n",
              "\n",
              "        \n",
              "    \n",
              "&lt;/script&gt;\n",
              "&lt;/html&gt;\" style=\"position:absolute;width:100%;height:100%;left:0;top:0;border:none !important;\" allowfullscreen webkitallowfullscreen mozallowfullscreen></iframe></div></div>"
            ]
          },
          "metadata": {},
          "execution_count": 99
        }
      ]
    },
    {
      "cell_type": "code",
      "source": [],
      "metadata": {
        "id": "BKrtGeiSFywA"
      },
      "execution_count": null,
      "outputs": []
    },
    {
      "cell_type": "code",
      "source": [],
      "metadata": {
        "id": "NXG3eP9zF033"
      },
      "execution_count": null,
      "outputs": []
    },
    {
      "cell_type": "markdown",
      "source": [
        "Experiment"
      ],
      "metadata": {
        "id": "mALehXA2EcMg"
      }
    },
    {
      "cell_type": "code",
      "source": [
        "!pip install osmnx"
      ],
      "metadata": {
        "id": "e80-3GbAEfzH"
      },
      "execution_count": null,
      "outputs": []
    },
    {
      "cell_type": "code",
      "source": [
        "import osmnx as ox\n",
        "\n",
        "# Define the location of interest using an address or place name\n",
        "location_name = 'San Francisco, California'\n",
        "\n",
        "# Define the distance (in meters) around the location to retrieve OSM data for\n",
        "distance = 500\n",
        "\n",
        "# Download and construct a network from OSM data within the specified distance from the location\n",
        "G = ox.graph_from_address(location_name, distance, network_type='all')\n",
        "\n",
        "# Calculate the area of the network in square meters\n",
        "area = ox.set_graph_crs(G, 'EPSG:4326').unary_union.area\n",
        "\n",
        "# Calculate the amount of tree cover within the network\n",
        "trees = ox.geometries_from_address(location_name, tags={'natural': 'tree'})\n",
        "tree_cover = trees.geometry.unary_union.area / area\n",
        "\n",
        "print(f\"Total area: {area:.2f} square meters\")\n",
        "print(f\"Tree cover: {tree_cover:.2%}\")"
      ],
      "metadata": {
        "colab": {
          "base_uri": "https://localhost:8080/",
          "height": 243
        },
        "id": "QbwdUrGSEdZH",
        "outputId": "b4f6d284-8664-4a11-8975-56e66b7d230a"
      },
      "execution_count": null,
      "outputs": [
        {
          "output_type": "error",
          "ename": "AttributeError",
          "evalue": "ignored",
          "traceback": [
            "\u001b[0;31m---------------------------------------------------------------------------\u001b[0m",
            "\u001b[0;31mAttributeError\u001b[0m                            Traceback (most recent call last)",
            "\u001b[0;32m<ipython-input-55-d730c34a73b3>\u001b[0m in \u001b[0;36m<cell line: 13>\u001b[0;34m()\u001b[0m\n\u001b[1;32m     11\u001b[0m \u001b[0;34m\u001b[0m\u001b[0m\n\u001b[1;32m     12\u001b[0m \u001b[0;31m# Calculate the area of the network in square meters\u001b[0m\u001b[0;34m\u001b[0m\u001b[0;34m\u001b[0m\u001b[0m\n\u001b[0;32m---> 13\u001b[0;31m \u001b[0marea\u001b[0m \u001b[0;34m=\u001b[0m \u001b[0mox\u001b[0m\u001b[0;34m.\u001b[0m\u001b[0mset_graph_crs\u001b[0m\u001b[0;34m(\u001b[0m\u001b[0mG\u001b[0m\u001b[0;34m,\u001b[0m \u001b[0;34m'EPSG:4326'\u001b[0m\u001b[0;34m)\u001b[0m\u001b[0;34m.\u001b[0m\u001b[0munary_union\u001b[0m\u001b[0;34m.\u001b[0m\u001b[0marea\u001b[0m\u001b[0;34m\u001b[0m\u001b[0;34m\u001b[0m\u001b[0m\n\u001b[0m\u001b[1;32m     14\u001b[0m \u001b[0;34m\u001b[0m\u001b[0m\n\u001b[1;32m     15\u001b[0m \u001b[0;31m# Calculate the amount of tree cover within the network\u001b[0m\u001b[0;34m\u001b[0m\u001b[0;34m\u001b[0m\u001b[0m\n",
            "\u001b[0;31mAttributeError\u001b[0m: module 'osmnx' has no attribute 'set_graph_crs'"
          ]
        }
      ]
    },
    {
      "cell_type": "code",
      "source": [],
      "metadata": {
        "id": "R84JxVT6EoBr"
      },
      "execution_count": null,
      "outputs": []
    }
  ]
}